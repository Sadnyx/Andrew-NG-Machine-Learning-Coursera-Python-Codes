{
 "cells": [
  {
   "cell_type": "markdown",
   "metadata": {},
   "source": [
    "# Logistic Regression - oneVsAll Multi Class Classification"
   ]
  },
  {
   "cell_type": "code",
   "execution_count": 1,
   "metadata": {},
   "outputs": [],
   "source": [
    "import pandas as pd\n",
    "import numpy as np\n",
    "import matplotlib.pyplot as plt\n",
    "from scipy.io import loadmat"
   ]
  },
  {
   "cell_type": "markdown",
   "metadata": {},
   "source": [
    "### load data"
   ]
  },
  {
   "cell_type": "code",
   "execution_count": 2,
   "metadata": {},
   "outputs": [],
   "source": [
    "data=loadmat(\"ex3data1.mat\")\n",
    "X=data[\"X\"]\n",
    "y=data[\"y\"]"
   ]
  },
  {
   "cell_type": "markdown",
   "metadata": {},
   "source": [
    "### visualize hand written data"
   ]
  },
  {
   "cell_type": "code",
   "execution_count": 3,
   "metadata": {},
   "outputs": [
    {
     "data": {
      "image/png": "[encoded data removed]",
      "text/plain": [
       "<Figure size 600x400 with 16 Axes>"
      ]
     },
     "metadata": {
      "needs_background": "light"
     },
     "output_type": "display_data"
    }
   ],
   "source": [
    "fig = plt.figure(dpi=100)\n",
    "\n",
    "for i in range(16):\n",
    "    plt.subplot(4, 4, i+1)\n",
    "    # Each training example is 20 x 20 pixel grayscale we need to reshape them to 20 x 20 pixel\n",
    "    plt.imshow(X.reshape(len(X),20,20,order=\"F\")[np.random.randint(0,5001)], cmap='gray' ) \n",
    "    plt.axis('off')\n",
    "plt.subplots_adjust(hspace = 0.1, wspace= 0.1)\n",
    "plt.show()"
   ]
  },
  {
   "cell_type": "markdown",
   "metadata": {},
   "source": [
    "### define sigmoid function"
   ]
  },
  {
   "cell_type": "code",
   "execution_count": 4,
   "metadata": {},
   "outputs": [],
   "source": [
    "def sigmoid(z):\n",
    "    g = np.size(z);\n",
    "    g = 1 / (1+np.exp(-z))\n",
    "    return g"
   ]
  },
  {
   "cell_type": "markdown",
   "metadata": {},
   "source": [
    "### define cost function"
   ]
  },
  {
   "cell_type": "code",
   "execution_count": 5,
   "metadata": {},
   "outputs": [],
   "source": [
    "def lrCostFunction(X, y, theta, Lambda):\n",
    "    m = len(y)\n",
    "    grad = np.zeros((len(theta),1));\n",
    "    predictions = sigmoid(X @ theta) # predictions of hypothesis on all examples\n",
    "    reg_J = ((1/m) * (np.sum( -y * np.log(predictions)-(1-y) * np.log(1-predictions)))) + Lambda/(2*m) * sum(theta**2)\n",
    "    grad_0 = 1/m*(X.T @ (predictions-y))[0]\n",
    "    grad_1 = 1/m*(X.T @ (predictions-y))[1:] + Lambda/(m)* theta[1:]\n",
    "    grad[0] = grad_0\n",
    "    grad[1:] = grad_1\n",
    "    return reg_J, grad"
   ]
  },
  {
   "cell_type": "markdown",
   "metadata": {},
   "source": [
    "### Apply Vectorized Gradient Descent"
   ]
  },
  {
   "cell_type": "code",
   "execution_count": 6,
   "metadata": {},
   "outputs": [],
   "source": [
    "def gradientDescent(X, y, theta, alpha, num_iters, Lambda):\n",
    "    J_history=[]\n",
    "    for i in range(num_iters):\n",
    "        J, grad = lrCostFunction(X, y, theta, Lambda)\n",
    "        theta = theta - (alpha * grad)\n",
    "        J_history.append(J)\n",
    "    return theta, J_history  # return theta and J_history"
   ]
  },
  {
   "cell_type": "code",
   "execution_count": 7,
   "metadata": {},
   "outputs": [],
   "source": [
    "def oneVsAll(X, y, num_labels, Lambda):\n",
    "    m = X.shape[0]; # number of training examples\n",
    "    n = X.shape[1]; # number of features\n",
    "    all_theta = [] # 10 * 401\n",
    "    all_J = [] # 10 * 401\n",
    "    X = np.append(np.ones((m,1)),X,axis=1) # Add ones to the X data matrix\n",
    "    initial_theta = np.zeros((n+1,1))\n",
    "    alpha = 0.5\n",
    "    num_iters = 1000\n",
    "    Lambda = 0.1\n",
    "    for i in range(1,num_labels+1):\n",
    "        theta, J_history = gradientDescent(X, np.where((y==i),1,0), initial_theta, alpha, num_iters, Lambda)\n",
    "        all_theta.append(theta)\n",
    "        all_J.append(J_history)\n",
    "    return np.array(all_theta).reshape(num_labels,n+1), all_J"
   ]
  },
  {
   "cell_type": "code",
   "execution_count": 8,
   "metadata": {},
   "outputs": [],
   "source": [
    "theta , J = oneVsAll(X, y, 10, 0.1)"
   ]
  },
  {
   "cell_type": "code",
   "execution_count": 9,
   "metadata": {},
   "outputs": [
    {
     "data": {
      "text/html": [
       "<div>\n",
       "<style scoped>\n",
       "    .dataframe tbody tr th:only-of-type {\n",
       "        vertical-align: middle;\n",
       "    }\n",
       "\n",
       "    .dataframe tbody tr th {\n",
       "        vertical-align: top;\n",
       "    }\n",
       "\n",
       "    .dataframe thead th {\n",
       "        text-align: right;\n",
       "    }\n",
       "</style>\n",
       "<table border=\"1\" class=\"dataframe\">\n",
       "  <thead>\n",
       "    <tr style=\"text-align: right;\">\n",
       "      <th></th>\n",
       "      <th>0</th>\n",
       "      <th>1</th>\n",
       "      <th>2</th>\n",
       "      <th>3</th>\n",
       "      <th>4</th>\n",
       "      <th>5</th>\n",
       "      <th>6</th>\n",
       "      <th>7</th>\n",
       "      <th>8</th>\n",
       "      <th>9</th>\n",
       "      <th>...</th>\n",
       "      <th>391</th>\n",
       "      <th>392</th>\n",
       "      <th>393</th>\n",
       "      <th>394</th>\n",
       "      <th>395</th>\n",
       "      <th>396</th>\n",
       "      <th>397</th>\n",
       "      <th>398</th>\n",
       "      <th>399</th>\n",
       "      <th>400</th>\n",
       "    </tr>\n",
       "  </thead>\n",
       "  <tbody>\n",
       "    <tr>\n",
       "      <th>0</th>\n",
       "      <td>-0.530082</td>\n",
       "      <td>0.0</td>\n",
       "      <td>0.0</td>\n",
       "      <td>7.886474e-06</td>\n",
       "      <td>-0.000072</td>\n",
       "      <td>-0.000082</td>\n",
       "      <td>-0.000103</td>\n",
       "      <td>-0.000070</td>\n",
       "      <td>0.001648</td>\n",
       "      <td>-0.000097</td>\n",
       "      <td>...</td>\n",
       "      <td>0.001690</td>\n",
       "      <td>0.000436</td>\n",
       "      <td>-0.002137</td>\n",
       "      <td>0.015746</td>\n",
       "      <td>0.000763</td>\n",
       "      <td>-0.003437</td>\n",
       "      <td>-0.001094</td>\n",
       "      <td>0.000128</td>\n",
       "      <td>1.411020e-07</td>\n",
       "      <td>0.0</td>\n",
       "    </tr>\n",
       "    <tr>\n",
       "      <th>1</th>\n",
       "      <td>-1.795011</td>\n",
       "      <td>0.0</td>\n",
       "      <td>0.0</td>\n",
       "      <td>-4.993231e-06</td>\n",
       "      <td>0.000070</td>\n",
       "      <td>-0.000177</td>\n",
       "      <td>-0.003030</td>\n",
       "      <td>-0.001375</td>\n",
       "      <td>-0.001549</td>\n",
       "      <td>-0.000422</td>\n",
       "      <td>...</td>\n",
       "      <td>0.019539</td>\n",
       "      <td>0.037599</td>\n",
       "      <td>0.034629</td>\n",
       "      <td>-0.005415</td>\n",
       "      <td>0.006314</td>\n",
       "      <td>0.002149</td>\n",
       "      <td>0.003162</td>\n",
       "      <td>0.000840</td>\n",
       "      <td>-9.655353e-05</td>\n",
       "      <td>0.0</td>\n",
       "    </tr>\n",
       "    <tr>\n",
       "      <th>2</th>\n",
       "      <td>-2.474335</td>\n",
       "      <td>0.0</td>\n",
       "      <td>0.0</td>\n",
       "      <td>-2.425980e-06</td>\n",
       "      <td>-0.000016</td>\n",
       "      <td>0.000666</td>\n",
       "      <td>0.002897</td>\n",
       "      <td>-0.004228</td>\n",
       "      <td>-0.002753</td>\n",
       "      <td>-0.001073</td>\n",
       "      <td>...</td>\n",
       "      <td>0.002306</td>\n",
       "      <td>0.003779</td>\n",
       "      <td>0.000173</td>\n",
       "      <td>-0.000703</td>\n",
       "      <td>-0.001651</td>\n",
       "      <td>-0.000555</td>\n",
       "      <td>0.000130</td>\n",
       "      <td>-0.000011</td>\n",
       "      <td>8.498091e-08</td>\n",
       "      <td>0.0</td>\n",
       "    </tr>\n",
       "    <tr>\n",
       "      <th>3</th>\n",
       "      <td>-1.008876</td>\n",
       "      <td>0.0</td>\n",
       "      <td>0.0</td>\n",
       "      <td>-1.235091e-06</td>\n",
       "      <td>0.000011</td>\n",
       "      <td>0.000063</td>\n",
       "      <td>-0.000492</td>\n",
       "      <td>-0.000927</td>\n",
       "      <td>0.001868</td>\n",
       "      <td>0.002207</td>\n",
       "      <td>...</td>\n",
       "      <td>-0.004712</td>\n",
       "      <td>-0.011849</td>\n",
       "      <td>-0.015964</td>\n",
       "      <td>0.000361</td>\n",
       "      <td>0.000981</td>\n",
       "      <td>-0.000414</td>\n",
       "      <td>-0.000297</td>\n",
       "      <td>0.000023</td>\n",
       "      <td>7.891251e-07</td>\n",
       "      <td>0.0</td>\n",
       "    </tr>\n",
       "    <tr>\n",
       "      <th>4</th>\n",
       "      <td>-0.251699</td>\n",
       "      <td>0.0</td>\n",
       "      <td>0.0</td>\n",
       "      <td>-4.540061e-07</td>\n",
       "      <td>0.000011</td>\n",
       "      <td>-0.000065</td>\n",
       "      <td>-0.000779</td>\n",
       "      <td>-0.000893</td>\n",
       "      <td>-0.003352</td>\n",
       "      <td>-0.001604</td>\n",
       "      <td>...</td>\n",
       "      <td>-0.000790</td>\n",
       "      <td>-0.010182</td>\n",
       "      <td>-0.013053</td>\n",
       "      <td>-0.003229</td>\n",
       "      <td>-0.006113</td>\n",
       "      <td>-0.001474</td>\n",
       "      <td>0.000181</td>\n",
       "      <td>-0.000015</td>\n",
       "      <td>5.750472e-07</td>\n",
       "      <td>0.0</td>\n",
       "    </tr>\n",
       "    <tr>\n",
       "      <th>5</th>\n",
       "      <td>-1.393246</td>\n",
       "      <td>0.0</td>\n",
       "      <td>0.0</td>\n",
       "      <td>-4.322669e-07</td>\n",
       "      <td>0.000007</td>\n",
       "      <td>-0.000036</td>\n",
       "      <td>-0.000047</td>\n",
       "      <td>-0.000348</td>\n",
       "      <td>-0.000868</td>\n",
       "      <td>-0.000375</td>\n",
       "      <td>...</td>\n",
       "      <td>-0.019413</td>\n",
       "      <td>-0.025255</td>\n",
       "      <td>-0.024586</td>\n",
       "      <td>-0.004313</td>\n",
       "      <td>-0.003945</td>\n",
       "      <td>-0.000745</td>\n",
       "      <td>0.000475</td>\n",
       "      <td>-0.000065</td>\n",
       "      <td>1.808879e-06</td>\n",
       "      <td>0.0</td>\n",
       "    </tr>\n",
       "    <tr>\n",
       "      <th>6</th>\n",
       "      <td>-0.868486</td>\n",
       "      <td>0.0</td>\n",
       "      <td>0.0</td>\n",
       "      <td>-6.784227e-06</td>\n",
       "      <td>0.000055</td>\n",
       "      <td>0.000093</td>\n",
       "      <td>0.001134</td>\n",
       "      <td>0.004227</td>\n",
       "      <td>0.000980</td>\n",
       "      <td>-0.000361</td>\n",
       "      <td>...</td>\n",
       "      <td>-0.003216</td>\n",
       "      <td>-0.001268</td>\n",
       "      <td>-0.001808</td>\n",
       "      <td>-0.001952</td>\n",
       "      <td>-0.000162</td>\n",
       "      <td>-0.000182</td>\n",
       "      <td>-0.000610</td>\n",
       "      <td>-0.000159</td>\n",
       "      <td>1.824841e-05</td>\n",
       "      <td>0.0</td>\n",
       "    </tr>\n",
       "    <tr>\n",
       "      <th>7</th>\n",
       "      <td>-4.511213</td>\n",
       "      <td>0.0</td>\n",
       "      <td>0.0</td>\n",
       "      <td>-2.151462e-06</td>\n",
       "      <td>0.000021</td>\n",
       "      <td>0.000040</td>\n",
       "      <td>-0.000281</td>\n",
       "      <td>-0.001963</td>\n",
       "      <td>-0.002126</td>\n",
       "      <td>-0.000117</td>\n",
       "      <td>...</td>\n",
       "      <td>-0.002965</td>\n",
       "      <td>-0.007557</td>\n",
       "      <td>-0.007357</td>\n",
       "      <td>-0.002770</td>\n",
       "      <td>-0.004345</td>\n",
       "      <td>-0.001620</td>\n",
       "      <td>0.000029</td>\n",
       "      <td>-0.000052</td>\n",
       "      <td>4.864240e-06</td>\n",
       "      <td>0.0</td>\n",
       "    </tr>\n",
       "    <tr>\n",
       "      <th>8</th>\n",
       "      <td>-2.573321</td>\n",
       "      <td>0.0</td>\n",
       "      <td>0.0</td>\n",
       "      <td>-1.163960e-06</td>\n",
       "      <td>0.000017</td>\n",
       "      <td>0.000068</td>\n",
       "      <td>-0.002111</td>\n",
       "      <td>-0.002105</td>\n",
       "      <td>-0.001007</td>\n",
       "      <td>-0.005451</td>\n",
       "      <td>...</td>\n",
       "      <td>0.001942</td>\n",
       "      <td>-0.006527</td>\n",
       "      <td>-0.014801</td>\n",
       "      <td>-0.004332</td>\n",
       "      <td>0.000123</td>\n",
       "      <td>0.000521</td>\n",
       "      <td>0.000324</td>\n",
       "      <td>-0.000093</td>\n",
       "      <td>4.694380e-06</td>\n",
       "      <td>0.0</td>\n",
       "    </tr>\n",
       "    <tr>\n",
       "      <th>9</th>\n",
       "      <td>-1.827891</td>\n",
       "      <td>0.0</td>\n",
       "      <td>0.0</td>\n",
       "      <td>-1.639401e-07</td>\n",
       "      <td>-0.000004</td>\n",
       "      <td>0.000065</td>\n",
       "      <td>0.000599</td>\n",
       "      <td>0.000127</td>\n",
       "      <td>-0.000571</td>\n",
       "      <td>-0.000791</td>\n",
       "      <td>...</td>\n",
       "      <td>0.000571</td>\n",
       "      <td>0.002391</td>\n",
       "      <td>0.003301</td>\n",
       "      <td>0.000905</td>\n",
       "      <td>0.002039</td>\n",
       "      <td>0.004135</td>\n",
       "      <td>0.000858</td>\n",
       "      <td>-0.000181</td>\n",
       "      <td>5.702854e-06</td>\n",
       "      <td>0.0</td>\n",
       "    </tr>\n",
       "  </tbody>\n",
       "</table>\n",
       "<p>10 rows × 401 columns</p>\n",
       "</div>"
      ],
      "text/plain": [
       "        0    1    2             3         4         5         6         7    \\\n",
       "0 -0.530082  0.0  0.0  7.886474e-06 -0.000072 -0.000082 -0.000103 -0.000070   \n",
       "1 -1.795011  0.0  0.0 -4.993231e-06  0.000070 -0.000177 -0.003030 -0.001375   \n",
       "2 -2.474335  0.0  0.0 -2.425980e-06 -0.000016  0.000666  0.002897 -0.004228   \n",
       "3 -1.008876  0.0  0.0 -1.235091e-06  0.000011  0.000063 -0.000492 -0.000927   \n",
       "4 -0.251699  0.0  0.0 -4.540061e-07  0.000011 -0.000065 -0.000779 -0.000893   \n",
       "5 -1.393246  0.0  0.0 -4.322669e-07  0.000007 -0.000036 -0.000047 -0.000348   \n",
       "6 -0.868486  0.0  0.0 -6.784227e-06  0.000055  0.000093  0.001134  0.004227   \n",
       "7 -4.511213  0.0  0.0 -2.151462e-06  0.000021  0.000040 -0.000281 -0.001963   \n",
       "8 -2.573321  0.0  0.0 -1.163960e-06  0.000017  0.000068 -0.002111 -0.002105   \n",
       "9 -1.827891  0.0  0.0 -1.639401e-07 -0.000004  0.000065  0.000599  0.000127   \n",
       "\n",
       "        8         9    ...       391       392       393       394       395  \\\n",
       "0  0.001648 -0.000097  ...  0.001690  0.000436 -0.002137  0.015746  0.000763   \n",
       "1 -0.001549 -0.000422  ...  0.019539  0.037599  0.034629 -0.005415  0.006314   \n",
       "2 -0.002753 -0.001073  ...  0.002306  0.003779  0.000173 -0.000703 -0.001651   \n",
       "3  0.001868  0.002207  ... -0.004712 -0.011849 -0.015964  0.000361  0.000981   \n",
       "4 -0.003352 -0.001604  ... -0.000790 -0.010182 -0.013053 -0.003229 -0.006113   \n",
       "5 -0.000868 -0.000375  ... -0.019413 -0.025255 -0.024586 -0.004313 -0.003945   \n",
       "6  0.000980 -0.000361  ... -0.003216 -0.001268 -0.001808 -0.001952 -0.000162   \n",
       "7 -0.002126 -0.000117  ... -0.002965 -0.007557 -0.007357 -0.002770 -0.004345   \n",
       "8 -0.001007 -0.005451  ...  0.001942 -0.006527 -0.014801 -0.004332  0.000123   \n",
       "9 -0.000571 -0.000791  ...  0.000571  0.002391  0.003301  0.000905  0.002039   \n",
       "\n",
       "        396       397       398           399  400  \n",
       "0 -0.003437 -0.001094  0.000128  1.411020e-07  0.0  \n",
       "1  0.002149  0.003162  0.000840 -9.655353e-05  0.0  \n",
       "2 -0.000555  0.000130 -0.000011  8.498091e-08  0.0  \n",
       "3 -0.000414 -0.000297  0.000023  7.891251e-07  0.0  \n",
       "4 -0.001474  0.000181 -0.000015  5.750472e-07  0.0  \n",
       "5 -0.000745  0.000475 -0.000065  1.808879e-06  0.0  \n",
       "6 -0.000182 -0.000610 -0.000159  1.824841e-05  0.0  \n",
       "7 -0.001620  0.000029 -0.000052  4.864240e-06  0.0  \n",
       "8  0.000521  0.000324 -0.000093  4.694380e-06  0.0  \n",
       "9  0.004135  0.000858 -0.000181  5.702854e-06  0.0  \n",
       "\n",
       "[10 rows x 401 columns]"
      ]
     },
     "execution_count": 9,
     "metadata": {},
     "output_type": "execute_result"
    }
   ],
   "source": [
    "pd.DataFrame(theta)"
   ]
  },
  {
   "cell_type": "markdown",
   "metadata": {},
   "source": [
    "### training data accuracy"
   ]
  },
  {
   "cell_type": "code",
   "execution_count": 10,
   "metadata": {},
   "outputs": [],
   "source": [
    "def predictoneVsAll(X, theta):\n",
    "    m= X.shape[0]\n",
    "    X = np.append(np.ones((m,1)),X,axis=1) # Add ones to the X data matrix\n",
    "    pred = X @ theta.T\n",
    "    return np.argmax(pred,axis=1)+1"
   ]
  },
  {
   "cell_type": "code",
   "execution_count": 11,
   "metadata": {},
   "outputs": [],
   "source": [
    "pred = predictoneVsAll(X, theta)"
   ]
  },
  {
   "cell_type": "code",
   "execution_count": 12,
   "metadata": {},
   "outputs": [],
   "source": [
    "def accuracy(y_true,y_pred):\n",
    "    m = len(y_true)\n",
    "    total_correct= np.sum(y_pred.reshape(-1,1) ==y_true)\n",
    "    accuracy = (total_correct/m)*100\n",
    "    return accuracy"
   ]
  },
  {
   "cell_type": "code",
   "execution_count": 13,
   "metadata": {},
   "outputs": [
    {
     "name": "stdout",
     "output_type": "stream",
     "text": [
      "training data accuracy : % 92.14\n"
     ]
    }
   ],
   "source": [
    "print(\"training data accuracy : %\",accuracy(y,pred.reshape(-1,1)))"
   ]
  },
  {
   "cell_type": "code",
   "execution_count": null,
   "metadata": {},
   "outputs": [],
   "source": []
  }
 ],
 "metadata": {
  "kernelspec": {
   "display_name": "Python 3",
   "language": "python",
   "name": "python3"
  },
  "language_info": {
   "codemirror_mode": {
    "name": "ipython",
    "version": 3
   },
   "file_extension": ".py",
   "mimetype": "text/x-python",
   "name": "python",
   "nbconvert_exporter": "python",
   "pygments_lexer": "ipython3",
   "version": "3.8.6"
  }
 },
 "nbformat": 4,
 "nbformat_minor": 4
}
